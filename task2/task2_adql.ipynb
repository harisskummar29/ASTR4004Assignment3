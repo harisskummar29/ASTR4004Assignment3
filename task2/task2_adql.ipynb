{
 "cells": [
  {
   "cell_type": "markdown",
   "id": "6eea4c1f",
   "metadata": {},
   "source": [
    "## Part 1"
   ]
  },
  {
   "cell_type": "code",
   "execution_count": null,
   "id": "66f81974",
   "metadata": {},
   "outputs": [
    {
     "name": "stdout",
     "output_type": "stream",
     "text": [
      "INFO: Query finished. [astroquery.utils.tap.core]\n",
      "    solution_id             DESIGNATION          ... ext_key    j_date   \n",
      "                                                 ...              d      \n",
      "------------------- ---------------------------- ... ------- ------------\n",
      "1636148068921376768 Gaia DR3 4088892600474423808 ...      --  2450952.755\n",
      "1636148068921376768 Gaia DR3 4088893154546972672 ...      --  2450952.755\n",
      "1636148068921376768 Gaia DR3 4088893188906716032 ...      --  2450952.755\n",
      "1636148068921376768 Gaia DR3 4087815667506086656 ...      -- 2450952.7656\n",
      "1636148068921376768 Gaia DR3 4087815697559746304 ...      -- 2450952.7656\n"
     ]
    }
   ],
   "source": [
    "from astroquery.gaia import Gaia\n",
    "import astropy.units as u\n",
    "\n",
    "# Define the position of Ruprecht 147, search radius, and Gaia G magnitude threshold\n",
    "ra_r147 = 289.074 * u.deg\n",
    "dec_r147 = -16.323 * u.deg\n",
    "r_search = 1 * u.deg\n",
    "G_thresh = 14\n",
    "\n",
    "# ADQL query for Gaia DR3 sources within 1° of Ruprecht 147 (G < 14), crossmatched with 2MASS\n",
    "query = f\"\"\"\n",
    "SELECT *\n",
    "FROM gaiadr3.gaia_source AS g\n",
    "JOIN gaiadr3.tmass_psc_xsc_best_neighbour AS xmatch USING (source_id)\n",
    "JOIN gaiadr3.tmass_psc_xsc_join AS xjoin USING (clean_tmass_psc_xsc_oid)\n",
    "JOIN gaiadr1.tmass_original_valid AS tmass\n",
    "    ON xjoin.original_psc_source_id = tmass.designation\n",
    "WHERE\n",
    "    CONTAINS(\n",
    "        POINT('ICRS', g.ra, g.dec),\n",
    "        CIRCLE('ICRS', 289.074, -16.323, 1)\n",
    "    ) = 1\n",
    "    AND g.phot_g_mean_mag <= 14\n",
    "\"\"\"\n",
    "\n",
    "# Launch the query asynchronously\n",
    "job = Gaia.launch_job_async(query=query)\n",
    "gaiadr3_match = job.get_results()\n",
    "\n",
    "# Preview the first few rows\n",
    "print(gaiadr3_match[:5])\n"
   ]
  },
  {
   "cell_type": "markdown",
   "id": "8d5f5b71",
   "metadata": {},
   "source": [
    "## Part 2"
   ]
  },
  {
   "cell_type": "code",
   "execution_count": 14,
   "id": "b2b6de9d",
   "metadata": {},
   "outputs": [
    {
     "name": "stdout",
     "output_type": "stream",
     "text": [
      "Number of stars within 1° of Ruprecht 147 with G ≤ 14: 3637\n"
     ]
    }
   ],
   "source": [
    "# Determine how many stars were returned from the query\n",
    "n_stars = len(gaiadr3_match)\n",
    "print(f\"Number of stars within 1° of Ruprecht 147 with G ≤ {G_thresh}: {n_stars}\")"
   ]
  },
  {
   "cell_type": "markdown",
   "id": "b375d156",
   "metadata": {},
   "source": [
    "## Part 3"
   ]
  },
  {
   "cell_type": "code",
   "execution_count": null,
   "id": "a5ddad6a",
   "metadata": {},
   "outputs": [],
   "source": []
  }
 ],
 "metadata": {
  "kernelspec": {
   "display_name": "base",
   "language": "python",
   "name": "python3"
  },
  "language_info": {
   "codemirror_mode": {
    "name": "ipython",
    "version": 3
   },
   "file_extension": ".py",
   "mimetype": "text/x-python",
   "name": "python",
   "nbconvert_exporter": "python",
   "pygments_lexer": "ipython3",
   "version": "3.12.7"
  }
 },
 "nbformat": 4,
 "nbformat_minor": 5
}
